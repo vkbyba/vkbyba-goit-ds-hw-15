{
 "cells": [
  {
   "cell_type": "code",
   "execution_count": 1,
   "metadata": {},
   "outputs": [],
   "source": [
    "import spacy\n",
    "import nltk\n",
    "from nltk.corpus import stopwords\n",
    "from nltk.tokenize import word_tokenize, sent_tokenize\n",
    "from heapq import nlargest\n",
    "import string"
   ]
  },
  {
   "cell_type": "code",
   "execution_count": 3,
   "metadata": {},
   "outputs": [
    {
     "name": "stderr",
     "output_type": "stream",
     "text": [
      "[nltk_data] Downloading package punkt to\n",
      "[nltk_data]     C:\\Users\\Admin\\AppData\\Roaming\\nltk_data...\n",
      "[nltk_data]   Package punkt is already up-to-date!\n",
      "[nltk_data] Downloading package stopwords to\n",
      "[nltk_data]     C:\\Users\\Admin\\AppData\\Roaming\\nltk_data...\n",
      "[nltk_data]   Package stopwords is already up-to-date!\n"
     ]
    },
    {
     "data": {
      "text/plain": [
       "True"
      ]
     },
     "execution_count": 3,
     "metadata": {},
     "output_type": "execute_result"
    }
   ],
   "source": [
    "nltk.download('punkt')\n",
    "nltk.download('stopwords')"
   ]
  },
  {
   "cell_type": "code",
   "execution_count": 4,
   "metadata": {},
   "outputs": [],
   "source": [
    "nlp = spacy.load('en_core_web_sm')"
   ]
  },
  {
   "cell_type": "code",
   "execution_count": 5,
   "metadata": {},
   "outputs": [
    {
     "name": "stdout",
     "output_type": "stream",
     "text": [
      "['The', 'Orbiter', 'Discovery', ',', 'OV-103', ',', 'is', 'considered', 'eligible', 'for', 'listing', 'in', 'the', 'National', 'Register', 'of', 'Historic', 'Places', '(', 'NRHP', ')', 'in', 'the', 'context', 'of', 'the', 'U.S.', 'Space', 'Shuttle', 'Program', '(', '1969', '-', '2011', ')', 'under', 'Criterion', 'A', 'in', 'the', 'areas', 'of', 'Space', 'Exploration', 'and', 'Transportation', 'and', 'under', 'Criterion', 'C', 'in', 'the', 'area', 'of', 'Engineering', '.', 'Because', 'it', 'has', 'achieved', 'significance', 'within', 'the', 'past', 'fifty', 'years', ',', 'Criteria', 'Consideration', 'G', 'applies', '.', 'Under', 'Criterion', 'A', ',', 'Discovery', 'is', 'significant', 'as', 'the', 'oldest', 'of', 'the', 'three', 'extant', 'orbiter', 'vehicles', 'constructed', 'for', 'the', 'Space', 'Shuttle', 'Program', '(', 'SSP', ')', ',', 'the', 'longest', 'running', 'American', 'space', 'program', 'to', 'date', ';', 'she', 'was', 'the', 'third', 'of', 'five', 'orbiters', 'built', 'by', 'NASA', '.', 'Unlike', 'the', 'Mercury', ',', 'Gemini', ',', 'and', 'Apollo', 'programs', ',', 'the', 'SSP', '’s', 'emphasis', 'was', 'on', 'cost', 'effectiveness', 'and', 'reusability', ',', 'and', 'eventually', 'the', 'construction', 'of', 'a', 'space', 'station', '.', 'Including', 'her', 'maiden', 'voyage', '(', 'launched', 'August', '30', ',', '1984', ')', ',', 'Discovery', 'flew', 'to', 'space', 'thirty', '-', 'nine', 'times', ',', 'more', 'than', 'any', 'of', 'the', 'other', 'four', 'orbiters', ';', 'she', 'was', 'also', 'the', 'first', 'orbiter', 'to', 'fly', 'twenty', 'missions', '.', 'She', 'had', 'the', 'honor', 'of', 'being', 'chosen', 'as', 'the', 'Return', 'to', 'Flight', 'vehicle', 'after', 'both', 'the', 'Challenger', 'and', 'Columbia', 'accidents', '.', 'Discovery', 'was', 'the', 'first', 'shuttle', 'to', 'fly', 'with', 'the', 'redesigned', 'SRBs', ',', 'a', 'result', 'of', 'the', 'Challenger', 'accident', ',', 'and', 'the', 'first', 'shuttle', 'to', 'fly', 'with', 'the', 'Phase', 'II', 'and', 'Block', 'I', 'SSME', '.', 'Discovery', 'also', 'carried', 'the', 'Hubble', 'Space', 'Telescope', 'to', 'orbit', 'and', 'performed', 'two', 'of', 'the', 'five', 'servicing', 'missions', 'to', 'the', 'observatory', '.', 'She', 'flew', 'the', 'first', 'and', 'last', 'dedicated', 'Department', 'of', 'Defense', '(', 'DoD', ')', 'missions', ',', 'as', 'well', 'as', 'the', 'first', 'unclassified', 'defense', '-', 'related', 'mission', '.', 'In', 'addition', ',', 'Discovery', 'was', 'vital', 'to', 'the', 'construction', 'of', 'the', 'International', 'Space', 'Station', '(', 'ISS', ')', ';', 'she', 'flew', 'thirteen', 'of', 'the', 'thirty', '-', 'seven', 'total', 'missions', 'flown', 'to', 'the', 'station', 'by', 'a', 'U.S.', 'Space', 'Shuttle', '.', 'She', 'was', 'the', 'first', 'orbiter', 'to', 'dock', 'to', 'the', 'ISS', ',', 'and', 'the', 'first', 'to', 'perform', 'an', 'exchange', 'of', 'a', 'resident', 'crew', '.', 'Under', 'Criterion', 'C', ',', 'Discovery', 'is', 'significant', 'as', 'a', 'feat', 'of', 'engineering', '.', 'According', 'to', 'Wayne', 'Hale', ',', 'a', 'flight', 'director', 'from', 'Johnson', 'Space', 'Center', ',', 'the', 'Space', 'Shuttle', 'orbiter', 'represents', 'a', '“', 'huge', 'technological', 'leap', 'from', 'expendable', 'rockets', 'and', 'capsules', 'to', 'a', 'reusable', ',', 'winged', ',', 'hypersonic', ',', 'cargo', '-', 'carrying', 'spacecraft', '.', '”', 'Although', 'her', 'base', 'structure', 'followed', 'a', 'conventional', 'aircraft', 'design', ',', 'she', 'used', 'advanced', 'materials', 'that', 'both', 'minimized', 'her', 'weight', 'for', 'cargo', '-', 'carrying', 'purposes', 'and', 'featured', 'low', 'thermal', 'expansion', 'ratios', ',', 'which', 'provided', 'a', 'stable', 'base', 'for', 'her', 'Thermal', 'Protection', 'System', '(', 'TPS', ')', 'materials', '.', 'The', 'Space', 'Shuttle', 'orbiter', 'also', 'featured', 'the', 'first', 'reusable', 'TPS', ';', 'all', 'previous', 'spaceflight', 'vehicles', 'had', 'a', 'single', '-', 'use', ',', 'ablative', 'heat', 'shield', '.', 'Other', 'notable', 'engineering', 'achievements', 'of', 'the', 'orbiter', 'included', 'the', 'first', 'reusable', 'orbital', 'propulsion', 'system', ',', 'and', 'the', 'first', 'two', '-', 'fault', '-', 'tolerant', 'Integrated', 'Avionics', 'System', '.', 'As', 'Hale', 'stated', ',', 'the', 'Space', 'Shuttle', 'remains', '“', 'the', 'largest', ',', 'fastest', ',', 'winged', 'hypersonic', 'aircraft', 'in', 'history', ',', '”', 'having', 'regularly', 'flown', 'at', 'twenty', '-', 'five', 'times', 'the', 'speed', 'of', 'sound', '.']\n"
     ]
    }
   ],
   "source": [
    "text = \"The Orbiter Discovery, OV-103, is considered eligible for listing in the National Register of Historic Places (NRHP) in the context of the U.S. Space Shuttle Program (1969-2011) under Criterion A in the areas of Space Exploration and Transportation and under Criterion C in the area of Engineering. Because it has achieved significance within the past fifty years, Criteria Consideration G applies. Under Criterion A, Discovery is significant as the oldest of the three extant orbiter vehicles constructed for the Space Shuttle Program (SSP), the longest running American space program to date; she was the third of five orbiters built by NASA. Unlike the Mercury, Gemini, and Apollo programs, the SSP’s emphasis was on cost effectiveness and reusability, and eventually the construction of a space station. Including her maiden voyage (launched August 30, 1984), Discovery flew to space thirty-nine times, more than any of the other four orbiters; she was also the first orbiter to fly twenty missions. She had the honor of being chosen as the Return to Flight vehicle after both the Challenger and Columbia accidents. Discovery was the first shuttle to fly with the redesigned SRBs, a result of the Challenger accident, and the first shuttle to fly with the Phase II and Block I SSME. Discovery also carried the Hubble Space Telescope to orbit and performed two of the five servicing missions to the observatory. She flew the first and last dedicated Department of Defense (DoD) missions, as well as the first unclassified defense-related mission. In addition, Discovery was vital to the construction of the International Space Station (ISS); she flew thirteen of the thirty-seven total missions flown to the station by a U.S. Space Shuttle. She was the first orbiter to dock to the ISS, and the first to perform an exchange of a resident crew. Under Criterion C, Discovery is significant as a feat of engineering. According to Wayne Hale, a flight director from Johnson Space Center, the Space Shuttle orbiter represents a “huge technological leap from expendable rockets and capsules to a reusable, winged, hypersonic, cargo-carrying spacecraft.” Although her base structure followed a conventional aircraft design, she used advanced materials that both minimized her weight for cargo-carrying purposes and featured low thermal expansion ratios, which provided a stable base for her Thermal Protection System (TPS) materials. The Space Shuttle orbiter also featured the first reusable TPS; all previous spaceflight vehicles had a single-use, ablative heat shield. Other notable engineering achievements of the orbiter included the first reusable orbital propulsion system, and the first two-fault-tolerant Integrated Avionics System. As Hale stated, the Space Shuttle remains “the largest, fastest, winged hypersonic aircraft in history,” having regularly flown at twenty-five times the speed of sound.\"\n",
    "\n",
    "doc = nlp(text)\n",
    "tokens = [token.text for token in doc]\n",
    "print(tokens)"
   ]
  },
  {
   "cell_type": "code",
   "execution_count": 6,
   "metadata": {},
   "outputs": [
    {
     "name": "stdout",
     "output_type": "stream",
     "text": [
      "Sentence 1: ['orbiter', 'discovery', 'considered', 'eligible', 'listing', 'national', 'register', 'historic', 'places', 'nrhp', 'context', 'space', 'shuttle', 'program', 'criterion', 'areas', 'space', 'exploration', 'transportation', 'criterion', 'c', 'area', 'engineering']\n",
      "Sentence 2: ['achieved', 'significance', 'within', 'past', 'fifty', 'years', 'criteria', 'consideration', 'g', 'applies']\n",
      "Sentence 3: ['criterion', 'discovery', 'significant', 'oldest', 'three', 'extant', 'orbiter', 'vehicles', 'constructed', 'space', 'shuttle', 'program', 'ssp', 'longest', 'running', 'american', 'space', 'program', 'date', 'third', 'five', 'orbiters', 'built', 'nasa']\n",
      "Sentence 4: ['unlike', 'mercury', 'gemini', 'apollo', 'programs', 'ssp', 'emphasis', 'cost', 'effectiveness', 'reusability', 'eventually', 'construction', 'space', 'station']\n",
      "Sentence 5: ['including', 'maiden', 'voyage', 'launched', 'august', 'discovery', 'flew', 'space', 'times', 'four', 'orbiters', 'also', 'first', 'orbiter', 'fly', 'twenty', 'missions']\n",
      "Sentence 6: ['honor', 'chosen', 'return', 'flight', 'vehicle', 'challenger', 'columbia', 'accidents']\n",
      "Sentence 7: ['discovery', 'first', 'shuttle', 'fly', 'redesigned', 'srbs', 'result', 'challenger', 'accident', 'first', 'shuttle', 'fly', 'phase', 'ii', 'block', 'ssme']\n",
      "Sentence 8: ['discovery', 'also', 'carried', 'hubble', 'space', 'telescope', 'orbit', 'performed', 'two', 'five', 'servicing', 'missions', 'observatory']\n",
      "Sentence 9: ['flew', 'first', 'last', 'dedicated', 'department', 'defense', 'dod', 'missions', 'well', 'first', 'unclassified', 'mission']\n",
      "Sentence 10: ['addition', 'discovery', 'vital', 'construction', 'international', 'space', 'station', 'iss', 'flew', 'thirteen', 'total', 'missions', 'flown', 'station', 'space', 'shuttle']\n",
      "Sentence 11: ['first', 'orbiter', 'dock', 'iss', 'first', 'perform', 'exchange', 'resident', 'crew']\n",
      "Sentence 12: ['criterion', 'c', 'discovery', 'significant', 'feat', 'engineering']\n",
      "Sentence 13: ['according', 'wayne', 'hale', 'flight', 'director', 'johnson', 'space', 'center', 'space', 'shuttle', 'orbiter', 'represents', 'huge', 'technological', 'leap', 'expendable', 'rockets', 'capsules', 'reusable', 'winged', 'hypersonic', 'although', 'base', 'structure', 'followed', 'conventional', 'aircraft', 'design', 'used', 'advanced', 'materials', 'minimized', 'weight', 'purposes', 'featured', 'low', 'thermal', 'expansion', 'ratios', 'provided', 'stable', 'base', 'thermal', 'protection', 'system', 'tps', 'materials']\n",
      "Sentence 14: ['space', 'shuttle', 'orbiter', 'also', 'featured', 'first', 'reusable', 'tps', 'previous', 'spaceflight', 'vehicles', 'ablative', 'heat', 'shield']\n",
      "Sentence 15: ['notable', 'engineering', 'achievements', 'orbiter', 'included', 'first', 'reusable', 'orbital', 'propulsion', 'system', 'first', 'integrated', 'avionics', 'system']\n",
      "Sentence 16: ['hale', 'stated', 'space', 'shuttle', 'remains', 'largest', 'fastest', 'winged', 'hypersonic', 'aircraft', 'history', 'regularly', 'flown', 'times', 'speed', 'sound']\n"
     ]
    }
   ],
   "source": [
    "\n",
    "tokens = word_tokenize(text)\n",
    "sentences = sent_tokenize(text)\n",
    "\n",
    "stop_words = set(stopwords.words('english'))\n",
    "punctuation = string.punctuation + '\\n'\n",
    "\n",
    "def clean_and_tokenize(sentence):\n",
    "    tokens = word_tokenize(sentence)\n",
    "    tokens = [token.lower() for token in tokens if token.isalpha()]\n",
    "    tokens = [token for token in tokens if token not in stop_words]\n",
    "    return tokens\n",
    "\n",
    "tokenized_sentences = [clean_and_tokenize(sentence) for sentence in sentences]\n",
    "\n",
    "for i, sentence in enumerate(tokenized_sentences):\n",
    "    print(f\"Sentence {i+1}: {sentence}\")"
   ]
  },
  {
   "cell_type": "code",
   "execution_count": 7,
   "metadata": {},
   "outputs": [
    {
     "name": "stdout",
     "output_type": "stream",
     "text": [
      "Summary:\n",
      "Discovery also carried the Hubble Space Telescope to orbit and performed two of the five servicing missions to the observatory. She flew the first and last dedicated Department of Defense (DoD) missions, as well as the first unclassified defense-related mission. The Space Shuttle orbiter also featured the first reusable TPS; all previous spaceflight vehicles had a single-use, ablative heat shield. Other notable engineering achievements of the orbiter included the first reusable orbital propulsion system, and the first two-fault-tolerant Integrated Avionics System. As Hale stated, the Space Shuttle remains “the largest, fastest, winged hypersonic aircraft in history,” having regularly flown at twenty-five times the speed of sound.\n"
     ]
    }
   ],
   "source": [
    "word_frequencies = {}\n",
    "\n",
    "for tokens in tokenized_sentences:\n",
    "    for word in tokens:\n",
    "        if word not in word_frequencies:\n",
    "            word_frequencies[word] = 1\n",
    "        else:\n",
    "            word_frequencies[word] += 1\n",
    "\n",
    "max_frequency = max(word_frequencies.values())\n",
    "\n",
    "for word in word_frequencies:\n",
    "    word_frequencies[word] = word_frequencies[word] / max_frequency\n",
    "\n",
    "sentence_scores = {}\n",
    "\n",
    "\n",
    "for i, sentence in enumerate(sentences):\n",
    "    for word in word_tokenize(sentence.lower()):\n",
    "        if word in word_frequencies:\n",
    "            if len(sentence.split(' ')) < 30: \n",
    "                if i not in sentence_scores:\n",
    "                    sentence_scores[i] = word_frequencies[word]\n",
    "                else:\n",
    "                    sentence_scores[i] += word_frequencies[word]\n",
    "\n",
    "summary_sentences = nlargest(5, sentence_scores, key=sentence_scores.get)\n",
    "\n",
    "summary = ' '.join([sentences[i] for i in sorted(summary_sentences)])\n",
    "\n",
    "print(\"Summary:\")\n",
    "print(summary)"
   ]
  }
 ],
 "metadata": {
  "kernelspec": {
   "display_name": "Python 3",
   "language": "python",
   "name": "python3"
  },
  "language_info": {
   "codemirror_mode": {
    "name": "ipython",
    "version": 3
   },
   "file_extension": ".py",
   "mimetype": "text/x-python",
   "name": "python",
   "nbconvert_exporter": "python",
   "pygments_lexer": "ipython3",
   "version": "3.12.4"
  }
 },
 "nbformat": 4,
 "nbformat_minor": 2
}
